{
  "cells": [
    {
      "cell_type": "markdown",
      "source": [
        "# Parkinson's Disease detection with audio using 1-Dimensional Convolutional Neural Network coded with libraries."
      ],
      "metadata": {
        "id": "wobkb4y0LUiB"
      }
    },
    {
      "cell_type": "code",
      "execution_count": null,
      "metadata": {
        "colab": {
          "base_uri": "https://localhost:8080/"
        },
        "id": "9b_sAeXDTkN_",
        "outputId": "12a138bf-31d8-4f6d-be74-22c0420d494e"
      },
      "outputs": [
        {
          "name": "stdout",
          "output_type": "stream",
          "text": [
            "Looking in indexes: https://pypi.org/simple, https://us-python.pkg.dev/colab-wheels/public/simple/\n",
            "Collecting tensorflow-gpu\n",
            "  Downloading tensorflow-gpu-2.12.0.tar.gz (2.6 kB)\n",
            "  \u001b[1;31merror\u001b[0m: \u001b[1msubprocess-exited-with-error\u001b[0m\n",
            "  \n",
            "  \u001b[31m×\u001b[0m \u001b[32mpython setup.py egg_info\u001b[0m did not run successfully.\n",
            "  \u001b[31m│\u001b[0m exit code: \u001b[1;36m1\u001b[0m\n",
            "  \u001b[31m╰─>\u001b[0m See above for output.\n",
            "  \n",
            "  \u001b[1;35mnote\u001b[0m: This error originates from a subprocess, and is likely not a problem with pip.\n",
            "  Preparing metadata (setup.py) ... \u001b[?25l\u001b[?25herror\n",
            "\u001b[1;31merror\u001b[0m: \u001b[1mmetadata-generation-failed\u001b[0m\n",
            "\n",
            "\u001b[31m×\u001b[0m Encountered error while generating package metadata.\n",
            "\u001b[31m╰─>\u001b[0m See above for output.\n",
            "\n",
            "\u001b[1;35mnote\u001b[0m: This is an issue with the package mentioned above, not pip.\n",
            "\u001b[1;36mhint\u001b[0m: See above for details.\n"
          ]
        }
      ],
      "source": [
        "!pip install tensorflow-gpu"
      ]
    },
    {
      "cell_type": "code",
      "execution_count": null,
      "metadata": {
        "colab": {
          "base_uri": "https://localhost:8080/"
        },
        "id": "I9eyqcfTRrnG",
        "outputId": "ddb955e0-4cac-4ded-9c7b-512e08ff3ac5"
      },
      "outputs": [
        {
          "name": "stdout",
          "output_type": "stream",
          "text": [
            "Sun Jun 25 20:46:03 2023       \n",
            "+-----------------------------------------------------------------------------+\n",
            "| NVIDIA-SMI 525.85.12    Driver Version: 525.85.12    CUDA Version: 12.0     |\n",
            "|-------------------------------+----------------------+----------------------+\n",
            "| GPU  Name        Persistence-M| Bus-Id        Disp.A | Volatile Uncorr. ECC |\n",
            "| Fan  Temp  Perf  Pwr:Usage/Cap|         Memory-Usage | GPU-Util  Compute M. |\n",
            "|                               |                      |               MIG M. |\n",
            "|===============================+======================+======================|\n",
            "|   0  Tesla T4            Off  | 00000000:00:04.0 Off |                    0 |\n",
            "| N/A   48C    P8     9W /  70W |      0MiB / 15360MiB |      0%      Default |\n",
            "|                               |                      |                  N/A |\n",
            "+-------------------------------+----------------------+----------------------+\n",
            "                                                                               \n",
            "+-----------------------------------------------------------------------------+\n",
            "| Processes:                                                                  |\n",
            "|  GPU   GI   CI        PID   Type   Process name                  GPU Memory |\n",
            "|        ID   ID                                                   Usage      |\n",
            "|=============================================================================|\n",
            "|  No running processes found                                                 |\n",
            "+-----------------------------------------------------------------------------+\n"
          ]
        }
      ],
      "source": [
        "!nvidia-smi"
      ]
    },
    {
      "cell_type": "code",
      "execution_count": null,
      "metadata": {
        "colab": {
          "base_uri": "https://localhost:8080/",
          "height": 36
        },
        "id": "Hj9O8dQRUu-x",
        "outputId": "836cd2dc-5484-428c-bf2a-fb0341ea8d62"
      },
      "outputs": [
        {
          "data": {
            "application/vnd.google.colaboratory.intrinsic+json": {
              "type": "string"
            },
            "text/plain": [
              "'2.12.0'"
            ]
          },
          "execution_count": 3,
          "metadata": {},
          "output_type": "execute_result"
        }
      ],
      "source": [
        "import tensorflow as tf\n",
        "tf.__version__"
      ]
    },
    {
      "cell_type": "code",
      "execution_count": null,
      "metadata": {
        "id": "7e7o6xuPV9K8"
      },
      "outputs": [],
      "source": [
        "path = '/content/drive/MyDrive/HYP TRAIN DATA'  # Path to the audios"
      ]
    },
    {
      "cell_type": "markdown",
      "source": [
        "# 1. Import the dependencies."
      ],
      "metadata": {
        "id": "t5JrU-7gA1g4"
      }
    },
    {
      "cell_type": "code",
      "execution_count": null,
      "metadata": {
        "id": "RyQbwktzXv9X"
      },
      "outputs": [],
      "source": [
        "import librosa\n",
        "from librosa import feature\n",
        "import tensorflow as tf\n",
        "import os\n",
        "import numpy as np\n",
        "import pandas as pd\n",
        "from sklearn.model_selection import train_test_split\n",
        "from sklearn.preprocessing import LabelEncoder\n",
        "from keras.models import Sequential\n",
        "from keras.layers import Conv1D, MaxPooling1D, GlobalAveragePooling1D, Dense\n",
        "import matplotlib.pyplot as plt"
      ]
    },
    {
      "cell_type": "markdown",
      "source": [
        "# 2. Load the audios with Librosa, and preprocess them using Peak Amplitude Normalization.\n",
        "- load_audio will return all the audios with their sampling rate.\n",
        "- to_positive will turn all values to postive numbers (audio is 1D).\n",
        "- get_max will return the maximum value in each audio array.\n",
        "- peak_amplitude_normalize will preprocess audios with this formula 10 ** (peak / 20) / maximum_value."
      ],
      "metadata": {
        "id": "wFeDqRMrBHIs"
      }
    },
    {
      "cell_type": "code",
      "source": [
        "# Define a function to load the audios which are in a WAV file format\n",
        "def load_audio(file_path):\n",
        "     audio, sampling_rate = librosa.load(file_path, sr=44100)\n",
        "     return audio, sampling_rate\n",
        "\n",
        "def to_positive(n_array):  # Turn all values to positive values\n",
        "    for i in range(len(n_array)):\n",
        "        if n_array[i] < 0:\n",
        "            n_array[i] = -1 * n_array[i]\n",
        "\n",
        "    return n_array\n",
        "\n",
        "\n",
        "def get_max(n_array):  # Get the maximum value\n",
        "    max_value = n_array[0]\n",
        "    for i in range(1, len(n_array), 1):\n",
        "        if n_array[i] > max_value:\n",
        "            max_value = n_array[i]\n",
        "\n",
        "    return max_value\n",
        "\n",
        "\n",
        "def peak_amplitude_normalize(audio_data, peak=-3.0):  # Calculate a scaling factor based on the specific peak value (-3 dB)\n",
        "    n_array = to_positive(audio_data)                 # and multiply the entire audio signal by the scaling factor\n",
        "    maximum_value = get_max(n_array)\n",
        "    scaling = 10 ** (peak / 20) / maximum_value\n",
        "    normalized_audio = audio_data * scaling\n",
        "    return normalized_audio"
      ],
      "metadata": {
        "id": "ygHfhV9OBbye"
      },
      "execution_count": null,
      "outputs": []
    },
    {
      "cell_type": "markdown",
      "source": [
        "# 3. Load the audios and their corresponding labels and store them in ```X and y ```.\n",
        "- audios loaded are stored in X and their labels in y.\n",
        "- Then after data is split into train and test sets."
      ],
      "metadata": {
        "id": "w6iIzKB9Bm71"
      }
    },
    {
      "cell_type": "code",
      "execution_count": null,
      "metadata": {
        "id": "e3HqqfSEZbzh"
      },
      "outputs": [],
      "source": [
        "# Initialize empty lists to store the audios and y labels\n",
        "X = []\n",
        "y = []\n",
        "\n",
        "# Iterate over the audio files in the directory\n",
        "for file_name in os.listdir(path):\n",
        "    if file_name.endswith('.wav'):\n",
        "      # P means Parkinson's with positive status of 1\n",
        "      if \"P\" in file_name:\n",
        "        y.append(1)\n",
        "\n",
        "      # C means Control Subject - No Parkinson's with negative status of 0\n",
        "      if \"C\" in file_name:\n",
        "        y.append(0)\n",
        "\n",
        "      file_path = os.path.join(path, file_name)\n",
        "\n",
        "        # Load the audios and append them to X\n",
        "      audio, sr = load_audio(file_path)\n",
        "      preprocessed_audio = peak_amplitude_normalize(audio)\n",
        "      X.append(preprocessed_audio)\n",
        "\n",
        "# Convert the lists to NumPy arrays\n",
        "X = np.array(X)\n",
        "y = np.array(y)\n",
        "\n",
        "# Split the dataset into training and testing sets\n",
        "X_train, X_test, y_train, y_test = train_test_split(X, y, test_size=0.20, random_state=42)"
      ]
    },
    {
      "cell_type": "markdown",
      "source": [
        "# 4. Build, compile, and fit the 1DCNN model.\n",
        "- Create the Sequential model and add Conv1D, MaxPooling1D, GlobalPooling1D, and Dense layers.\n",
        "- Add MaxPooling1D after every Conv1D layers (with ReLU), then after add two Densely connected layers with ReLU and sigmoid functions respectively.\n",
        "- Compile the model with 'binary_crossentropy' loss, 'adam' optimizer, and 'accuracy' as a metric.\n",
        "- Fit the model to the training data.\n",
        "- Finally plot the history of the model from the result of fitting."
      ],
      "metadata": {
        "id": "fVnWj3bEDH-y"
      }
    },
    {
      "cell_type": "code",
      "execution_count": null,
      "metadata": {
        "colab": {
          "base_uri": "https://localhost:8080/",
          "height": 1000
        },
        "id": "V1td0YitavBK",
        "outputId": "bdc8011f-ce7e-4f5d-b9d0-50804b44cc70"
      },
      "outputs": [
        {
          "output_type": "stream",
          "name": "stdout",
          "text": [
            "Epoch 1/10\n",
            "5/5 [==============================] - 5s 716ms/step - loss: 0.6913 - accuracy: 0.5435 - val_loss: 0.6788 - val_accuracy: 0.7500\n",
            "Epoch 2/10\n",
            "5/5 [==============================] - 4s 749ms/step - loss: 0.6863 - accuracy: 0.5870 - val_loss: 0.6617 - val_accuracy: 0.7500\n",
            "Epoch 3/10\n",
            "5/5 [==============================] - 3s 666ms/step - loss: 0.6849 - accuracy: 0.5870 - val_loss: 0.6277 - val_accuracy: 0.7500\n",
            "Epoch 4/10\n",
            "5/5 [==============================] - 3s 667ms/step - loss: 0.6790 - accuracy: 0.5870 - val_loss: 0.6272 - val_accuracy: 0.7500\n",
            "Epoch 5/10\n",
            "5/5 [==============================] - 3s 671ms/step - loss: 0.6809 - accuracy: 0.5870 - val_loss: 0.6125 - val_accuracy: 0.7500\n",
            "Epoch 6/10\n",
            "5/5 [==============================] - 3s 677ms/step - loss: 0.6765 - accuracy: 0.5870 - val_loss: 0.6220 - val_accuracy: 0.7500\n",
            "Epoch 7/10\n",
            "5/5 [==============================] - 4s 755ms/step - loss: 0.6783 - accuracy: 0.5870 - val_loss: 0.6225 - val_accuracy: 0.7500\n",
            "Epoch 8/10\n",
            "5/5 [==============================] - 3s 674ms/step - loss: 0.6770 - accuracy: 0.5870 - val_loss: 0.6250 - val_accuracy: 0.7500\n",
            "Epoch 9/10\n",
            "5/5 [==============================] - 3s 676ms/step - loss: 0.6797 - accuracy: 0.5870 - val_loss: 0.6302 - val_accuracy: 0.7500\n",
            "Epoch 10/10\n",
            "5/5 [==============================] - 3s 681ms/step - loss: 0.6771 - accuracy: 0.5870 - val_loss: 0.6251 - val_accuracy: 0.7500\n",
            "1/1 [==============================] - 0s 322ms/step - loss: 0.6251 - accuracy: 0.7500\n",
            "Loss:  0.6250795722007751\n",
            "Accuracy:  0.75\n"
          ]
        },
        {
          "output_type": "display_data",
          "data": {
            "text/plain": [
              "<Figure size 800x800 with 1 Axes>"
            ],
            "image/png": "[encoded data removed]"
          },
          "metadata": {}
        }
      ],
      "source": [
        "# Build the 1DCNN\n",
        "model = Sequential()\n",
        "\n",
        "model.add(Conv1D(filters=64, kernel_size=3, activation='relu', input_shape=(X_train.shape[1], 1)))\n",
        "model.add(MaxPooling1D(pool_size=2))\n",
        "model.add(Conv1D(filters=128, kernel_size=3, activation='relu'))\n",
        "model.add(MaxPooling1D(pool_size=2))\n",
        "model.add(Conv1D(filters=256, kernel_size=3, activation='relu'))\n",
        "model.add(GlobalAveragePooling1D())\n",
        "model.add(Dense(units=128, activation='relu'))\n",
        "model.add(Dense(units=1, activation='sigmoid'))\n",
        "\n",
        "model.compile(loss='binary_crossentropy', optimizer='adam', metrics=['accuracy'])\n",
        "\n",
        "# Train the model\n",
        "his = model.fit(X_train, y_train, validation_data=(X_test, y_test), epochs=10, batch_size=10)\n",
        "\n",
        "# Evaluate the model\n",
        "loss, accuracy = model.evaluate(X_test, y_test)\n",
        "print('Loss: ', loss)\n",
        "print('Accuracy: ', accuracy)\n",
        "\n",
        "# For plotting the learning curves\n",
        "plt.figure(figsize=(8, 8))\n",
        "plt.plot(his.history['accuracy'], label='accuracy')\n",
        "plt.plot(his.history['val_accuracy'], label='val_accuracy')\n",
        "plt.xlabel('Epoch')\n",
        "plt.ylabel('Accuracy')\n",
        "plt.ylim([0.5, 1])\n",
        "plt.legend(loc='lower right')\n",
        "plt.savefig(\"1dcnn_report.png\")"
      ]
    },
    {
      "cell_type": "markdown",
      "source": [
        "# 5. Save the model"
      ],
      "metadata": {
        "id": "8nHCdSCgGBFs"
      }
    },
    {
      "cell_type": "code",
      "execution_count": null,
      "metadata": {
        "id": "85tIhQ03Arpc",
        "colab": {
          "base_uri": "https://localhost:8080/"
        },
        "outputId": "98fcf5e9-d209-4fc5-b14b-bb9334407031"
      },
      "outputs": [
        {
          "output_type": "stream",
          "name": "stderr",
          "text": [
            "/usr/local/lib/python3.10/dist-packages/keras/src/engine/training.py:3000: UserWarning: You are saving your model as an HDF5 file via `model.save()`. This file format is considered legacy. We recommend using instead the native Keras format, e.g. `model.save('my_model.keras')`.\n",
            "  saving_api.save_model(\n"
          ]
        }
      ],
      "source": [
        "model.save('1dcnn.h5')"
      ]
    },
    {
      "cell_type": "markdown",
      "source": [
        "# 6. Other metrics"
      ],
      "metadata": {
        "id": "pNpvy34nGIcf"
      }
    },
    {
      "cell_type": "code",
      "source": [
        "from sklearn.metrics import accuracy_score, precision_score, recall_score, f1_score, confusion_matrix\n",
        "\n",
        "predictions = []\n",
        "threshold = 0.5\n",
        "for i in range(len(X_test)):\n",
        "  temp_pred = model.predict(np.expand_dims(X_test[i], 0))\n",
        "  if temp_pred >= threshold:\n",
        "    predictions.append(1)\n",
        "  else:\n",
        "    predictions.append(0)\n",
        "\n",
        "print(\"Evaluation on the validation data.\")\n",
        "print(\"Accuracy score on the validation data: \", accuracy_score(y_test, predictions))\n",
        "print(\"Precision score on the validation data: \", precision_score(y_test, predictions))\n",
        "print(\"Recall score on the validation data: \", recall_score(y_test, predictions))\n",
        "print(\"F1 score on the validation data: \", f1_score(y_test, predictions))\n",
        "print(\"Confusion matrix on the validation data: \", confusion_matrix(y_test, predictions))"
      ],
      "metadata": {
        "colab": {
          "base_uri": "https://localhost:8080/"
        },
        "id": "A1qFnFyiW2Gd",
        "outputId": "552f4e23-1607-4cb1-cc66-4259631eb03a"
      },
      "execution_count": null,
      "outputs": [
        {
          "output_type": "stream",
          "name": "stdout",
          "text": [
            "1/1 [==============================] - 0s 20ms/step\n",
            "1/1 [==============================] - 0s 17ms/step\n",
            "1/1 [==============================] - 0s 18ms/step\n",
            "1/1 [==============================] - 0s 20ms/step\n",
            "1/1 [==============================] - 0s 20ms/step\n",
            "1/1 [==============================] - 0s 21ms/step\n",
            "1/1 [==============================] - 0s 18ms/step\n",
            "1/1 [==============================] - 0s 18ms/step\n",
            "1/1 [==============================] - 0s 18ms/step\n",
            "1/1 [==============================] - 0s 21ms/step\n",
            "1/1 [==============================] - 0s 29ms/step\n",
            "1/1 [==============================] - 0s 30ms/step\n",
            "Evaluation on the validation data.\n",
            "Accuracy score on the validation data:  0.75\n",
            "Precision score on the validation data:  0.0\n",
            "Recall score on the validation data:  0.0\n",
            "F1 score on the validation data:  0.0\n",
            "Confusion matrix on the validation data:  [[9 0]\n",
            " [3 0]]\n"
          ]
        },
        {
          "output_type": "stream",
          "name": "stderr",
          "text": [
            "/usr/local/lib/python3.10/dist-packages/sklearn/metrics/_classification.py:1344: UndefinedMetricWarning: Precision is ill-defined and being set to 0.0 due to no predicted samples. Use `zero_division` parameter to control this behavior.\n",
            "  _warn_prf(average, modifier, msg_start, len(result))\n"
          ]
        }
      ]
    }
  ],
  "metadata": {
    "colab": {
      "provenance": [],
      "gpuType": "T4"
    },
    "kernelspec": {
      "display_name": "Python 3",
      "name": "python3"
    },
    "language_info": {
      "name": "python"
    },
    "accelerator": "GPU"
  },
  "nbformat": 4,
  "nbformat_minor": 0
}