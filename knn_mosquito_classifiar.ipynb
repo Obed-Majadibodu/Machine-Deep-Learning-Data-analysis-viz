{
  "nbformat": 4,
  "nbformat_minor": 0,
  "metadata": {
    "colab": {
      "provenance": [],
      "gpuType": "T4"
    },
    "kernelspec": {
      "name": "python3",
      "display_name": "Python 3"
    },
    "language_info": {
      "name": "python"
    },
    "accelerator": "GPU"
  },
  "cells": [
    {
      "cell_type": "markdown",
      "source": [
        "# K-Nearest Neighbor mosquito classifiar"
      ],
      "metadata": {
        "id": "V0Rggb95FlwT"
      }
    },
    {
      "cell_type": "markdown",
      "source": [
        "# 1. Import the dependencies."
      ],
      "metadata": {
        "id": "uxOJlvotMHH7"
      }
    },
    {
      "cell_type": "code",
      "execution_count": null,
      "metadata": {
        "id": "A6dAP1X-7roq"
      },
      "outputs": [],
      "source": [
        "# This program uses the images of the detected mosquitoes because I saved them, detection was done on those and they were uploaded online to train\n",
        "from PIL import Image\n",
        "import cv2\n",
        "from skimage.feature import local_binary_pattern, hog\n",
        "from sklearn.neighbors import KNeighborsClassifier\n",
        "from sklearn.tree import DecisionTreeClassifier\n",
        "import numpy as np\n",
        "import random\n",
        "import pandas as pd\n",
        "import os\n",
        "from typing import Tuple\n",
        "from sklearn.model_selection import train_test_split\n",
        "from sklearn.metrics import accuracy_score, precision_score, recall_score, f1_score, multilabel_confusion_matrix\n",
        "import pickle"
      ]
    },
    {
      "cell_type": "markdown",
      "source": [
        "# 2. Load images, image preprocessing, and image feature extraction\n",
        "- find_label find the corresponding label for each mosquito image.\n",
        "- paths_labels finds the paths of images.\n",
        "- gray_scale convert images to grayscale.\n",
        "- clahe applies adaptive histogram equalization.\n",
        "- lbp extracts Local Binary Pattern features."
      ],
      "metadata": {
        "id": "NoCDvZM2MJ0S"
      }
    },
    {
      "cell_type": "code",
      "source": [
        "data = pd.read_csv(\"/content/drive/MyDrive/mosquito_names.csv\")\n",
        "img_names = data[\"img_fName\"]\n",
        "img_names = list(img_names)\n",
        "img_classes = data[\"class_label\"]\n",
        "\n",
        "def find_label(file_name):\n",
        "    if file_name in img_names:\n",
        "        index = img_names.index(file_name)\n",
        "        return img_classes[index]\n",
        "\n",
        "def paths_labels() -> Tuple:\n",
        "    directory = \"/content/drive/MyDrive/detected_mosquitoes/train_test_images\"\n",
        "    img_paths = []\n",
        "    img_labels = []\n",
        "    # Getting each image path from the dataset\n",
        "    for file_name in os.listdir(directory):\n",
        "        if file_name.endswith('.jpeg'):\n",
        "            file_path = os.path.join(directory, file_name)\n",
        "            img_paths.append(file_path)\n",
        "            img_labels.append(find_label(file_name))\n",
        "\n",
        "    return img_paths, img_labels\n",
        "\n",
        "def gray_scale(img):  # For gray scale\n",
        "    img_gray = cv2.cvtColor(img, cv2.COLOR_BGR2GRAY)\n",
        "    return img_gray\n",
        "\n",
        "def clahe(gray_image):  # Applying CLAHE\n",
        "    adaptive_histogram_equalization = cv2.createCLAHE(clipLimit=2.0, tileGridSize=(8, 8))\n",
        "    image_equalized = adaptive_histogram_equalization.apply(gray_image)\n",
        "    return image_equalized\n",
        "\n",
        "def lbp(preprocessed_region):  # LBP features\n",
        "    radius, points = 3, 24\n",
        "    method = 'uniform'\n",
        "    lbp_image = local_binary_pattern(preprocessed_region, points, radius, method=method)\n",
        "    return lbp_image\n",
        "\n",
        "lbp_features = []\n",
        "imgs, img_labels = paths_labels()\n",
        "\n",
        "for i in range(len(imgs)):  # Loop through the images\n",
        "  # Load the image\n",
        "  image = cv2.imread(imgs[i])\n",
        "\n",
        "  # Feature extraction LBP\n",
        "  lbp_image = lbp(clahe(gray_scale(image)))\n",
        "  lbp_features.append(lbp_image.ravel())"
      ],
      "metadata": {
        "id": "Mv_Jbwc2Ni2n"
      },
      "execution_count": null,
      "outputs": []
    },
    {
      "cell_type": "markdown",
      "source": [
        "# 3. Dataset splitting, training a model, and evaluating a model.\n",
        "- Split the data into training and testing data\n",
        "- Create K-Nearest Neighbor model and fit it to the training data.\n",
        "- Finally make predictions with the model."
      ],
      "metadata": {
        "id": "P5t6XS50NzP9"
      }
    },
    {
      "cell_type": "code",
      "source": [
        "X_train, X_valid, y_train, y_valid = train_test_split(lbp_features, img_labels, test_size=0.2, random_state=42)\n",
        "knn = KNeighborsClassifier(n_neighbors=5)\n",
        "knn.fit(X_train, y_train)\n",
        "\n",
        "preds = knn.predict(X_valid)\n",
        "print(y_valid)\n",
        "print(preds)\n",
        "print(\"Accuracy score: \", accuracy_score(y_valid, preds))\n",
        "print(\"Confusion matrix: \", multilabel_confusion_matrix(y_valid, preds, labels=['albopictus', 'culex', 'anopheles', 'culiseta', 'japonicus/koreicus', 'aegypti']))\n",
        "\n",
        "# Saving the model using pickel\n",
        "det_knn = \"detection_knn.pkl\"\n",
        "with open(det_knn, 'wb') as file:\n",
        "    pickle.dump(knn, file)"
      ],
      "metadata": {
        "colab": {
          "base_uri": "https://localhost:8080/"
        },
        "id": "vc4dSRww7yq7",
        "outputId": "b70129b2-bd57-4d0d-b147-32f9243b1f19"
      },
      "execution_count": null,
      "outputs": [
        {
          "output_type": "stream",
          "name": "stdout",
          "text": [
            "['culex', 'albopictus', 'albopictus', 'culex', 'culex', 'albopictus', 'culex', 'culex', 'culex', 'culex', 'albopictus', 'culex', 'albopictus', 'culex', 'culex', 'albopictus', 'culex', 'albopictus', 'albopictus', 'japonicus/koreicus', 'albopictus', 'albopictus', 'culex', 'albopictus', 'culex', 'culex', 'culex', 'culex', 'culex', 'culex', 'albopictus', 'culex', 'culex', 'culex', 'culex', 'albopictus', 'culex', 'culex', 'culex', 'culex', 'albopictus', 'culex', 'albopictus', 'albopictus', 'albopictus', 'culex', 'culex', 'culex', 'culex', 'albopictus', 'albopictus', 'culex', 'culex', 'albopictus', 'culex', 'albopictus', 'albopictus', 'albopictus', 'culex', 'albopictus', 'culex', 'albopictus', 'culex', 'culex', 'albopictus', 'culex', 'culex', 'albopictus', 'culex', 'albopictus', 'albopictus', 'albopictus', 'culex', 'albopictus', 'albopictus', 'culex', 'culex', 'culex', 'culex', 'albopictus', 'albopictus', 'albopictus', 'albopictus', 'albopictus', 'culex', 'albopictus', 'albopictus', 'albopictus', 'culex', 'albopictus', 'culiseta', 'culex', 'culex', 'albopictus', 'albopictus', 'albopictus', 'culex', 'albopictus', 'culiseta', 'albopictus', 'culex', 'culex', 'albopictus', 'albopictus', 'albopictus', 'culex', 'culex', 'albopictus', 'culex', 'albopictus', 'albopictus', 'culex', 'albopictus', 'albopictus', 'albopictus', 'albopictus', 'culex', 'culex', 'culex', 'albopictus', 'culex', 'culex', 'albopictus', 'culex', 'albopictus', 'culex', 'albopictus', 'albopictus', 'culiseta', 'culex', 'albopictus', 'culex', 'albopictus', 'albopictus', 'culex', 'culex', 'albopictus', 'albopictus', 'albopictus', 'culex', 'culex', 'culex', 'culex', 'albopictus', 'albopictus', 'culex', 'albopictus', 'culex', 'culex', 'culex', 'culex', 'culex', 'albopictus', 'albopictus', 'albopictus', 'albopictus', 'albopictus', 'culex', 'culex', 'culex', 'culex', 'culex', 'albopictus', 'culex', 'culex', 'albopictus', 'albopictus', 'albopictus', 'albopictus', 'culiseta', 'japonicus/koreicus', 'albopictus', 'albopictus', 'culex', 'albopictus', 'culex', 'albopictus', 'culex', 'albopictus', 'culex', 'culiseta', 'albopictus', 'culex', 'culex', 'albopictus', 'culex', 'culex', 'culex', 'culiseta', 'culex', 'albopictus', 'culex', 'albopictus', 'culex', 'albopictus', 'albopictus', 'albopictus', 'albopictus', 'albopictus', 'culex', 'albopictus', 'albopictus', 'albopictus', 'culex', 'albopictus', 'albopictus', 'albopictus', 'culex', 'albopictus', 'albopictus', 'culex', 'culex', 'albopictus', 'culex', 'culex', 'culex', 'albopictus', 'albopictus', 'culex', 'culex', 'albopictus', 'albopictus', 'albopictus', 'albopictus', 'culex', 'culex', 'culex', 'albopictus', 'albopictus', 'albopictus', 'culex', 'culex', 'culex', 'albopictus', 'culiseta', 'albopictus', 'culex', 'albopictus', 'albopictus', 'culex', 'culiseta', 'culex', 'albopictus', 'albopictus', 'culex', 'culex', 'albopictus', 'albopictus', 'albopictus', 'culex', 'culex', 'albopictus', 'albopictus', 'culex', 'culex', 'culex', 'albopictus', 'albopictus', 'culex', 'culex', 'albopictus', 'culiseta', 'culex', 'albopictus', 'culex', 'albopictus', 'albopictus', 'culex', 'albopictus', 'albopictus', 'albopictus', 'culex', 'albopictus', 'culiseta', 'culex', 'albopictus', 'albopictus', 'culex', 'albopictus', 'culex', 'albopictus', 'culex', 'albopictus', 'albopictus', 'albopictus', 'culex', 'albopictus', 'culex', 'albopictus', 'culex', 'albopictus', 'albopictus', 'culex', 'culex', 'culex', 'culiseta', 'albopictus', 'albopictus', 'culex', 'albopictus', 'albopictus', 'albopictus', 'culex', 'albopictus', 'culex', 'albopictus', 'albopictus', 'culex', 'culex', 'albopictus', 'albopictus', 'culex', 'culex', 'albopictus', 'albopictus', 'albopictus', 'albopictus', 'albopictus', 'culex', 'culex', 'culex', 'albopictus', 'japonicus/koreicus', 'albopictus', 'culex', 'albopictus', 'albopictus', 'culex', 'culex', 'albopictus', 'culex', 'culex', 'albopictus', 'culiseta', 'albopictus', 'albopictus', 'albopictus', 'culex', 'culiseta', 'albopictus', 'albopictus', 'culex', 'culex', 'albopictus', 'culex', 'culex', 'culex', 'culex', 'culex', 'culex', 'albopictus', 'culex', 'culex', 'culex', 'culex', 'albopictus', 'albopictus', 'albopictus', 'culex', 'culex', 'culex', 'albopictus', 'culex', 'culex', 'culex', 'albopictus', 'albopictus', 'culex', 'albopictus', 'albopictus', 'culex', 'culex', 'culiseta', 'albopictus', 'albopictus', 'albopictus', 'albopictus', 'albopictus', 'albopictus', 'albopictus', 'culex', 'albopictus', 'culex', 'albopictus', 'albopictus', 'albopictus', 'albopictus', 'culex', 'culex', 'albopictus', 'japonicus/koreicus', 'albopictus', 'albopictus', 'culex', 'albopictus', 'albopictus', 'japonicus/koreicus', 'culex', 'albopictus', 'albopictus', 'culex', 'culex', 'culex', 'culex', 'albopictus', 'albopictus', 'culex', 'culex', 'albopictus', 'culex', 'albopictus', 'culex', 'culex', 'albopictus', 'culex', 'culex', 'culex', 'culex', 'culex', 'albopictus', 'albopictus', 'culex', 'culex', 'albopictus', 'culex', 'culex', 'albopictus', 'albopictus', 'culex', 'albopictus', 'culex', 'culex', 'japonicus/koreicus', 'culex', 'culiseta', 'culex', 'culex', 'culex', 'albopictus', 'culex', 'culex', 'culex', 'albopictus', 'culex', 'albopictus', 'culex', 'culex', 'culex', 'albopictus', 'albopictus', 'culex', 'albopictus', 'albopictus', 'albopictus', 'albopictus', 'culex', 'albopictus', 'albopictus', 'japonicus/koreicus', 'albopictus', 'albopictus', 'culex', 'culex', 'culex', 'culex', 'culex', 'albopictus', 'culex', 'albopictus', 'albopictus', 'albopictus', 'albopictus', 'albopictus', 'culiseta', 'albopictus', 'culex', 'culex', 'albopictus', 'albopictus', 'culex', 'japonicus/koreicus', 'culex', 'culex', 'culex', 'albopictus', 'culex', 'albopictus', 'culex', 'albopictus', 'albopictus', 'albopictus', 'culex', 'culex', 'albopictus', 'culex', 'albopictus', 'japonicus/koreicus', 'culex', 'albopictus', 'albopictus', 'culex', 'culex', 'culex', 'albopictus', 'culex', 'culex', 'albopictus', 'albopictus', 'albopictus', 'culex', 'albopictus', 'albopictus', 'albopictus', 'culex', 'albopictus', 'culex', 'culex', 'culex', 'albopictus', 'albopictus', 'culex', 'culex', 'albopictus', 'culex', 'culex', 'culex', 'culex', 'culex', 'albopictus', 'albopictus', 'albopictus', 'albopictus', 'culex', 'culex', 'albopictus', 'culex', 'albopictus', 'culex', 'culex', 'culex', 'culex', 'culex', 'culex', 'albopictus', 'albopictus', 'albopictus', 'albopictus', 'albopictus', 'albopictus', 'albopictus', 'albopictus', 'culex', 'culex', 'culex', 'albopictus', 'culiseta', 'culex', 'culiseta', 'culex', 'albopictus', 'culex', 'culex', 'culex', 'albopictus', 'albopictus', 'culex', 'culex', 'albopictus', 'japonicus/koreicus', 'albopictus', 'albopictus', 'culex', 'culex', 'albopictus', 'culex', 'albopictus', 'albopictus', 'albopictus', 'albopictus', 'albopictus', 'culex', 'culex', 'albopictus', 'albopictus', 'culex', 'albopictus', 'culiseta', 'culex', 'culex', 'culex', 'albopictus', 'culex', 'albopictus', 'albopictus', 'albopictus', 'culex', 'culex', 'albopictus', 'culex', 'albopictus', 'albopictus', 'culex', 'culex', 'albopictus', 'culex', 'albopictus', 'culex', 'albopictus', 'albopictus', 'culex', 'culex', 'albopictus', 'culex', 'culex', 'albopictus', 'culex', 'albopictus', 'albopictus', 'albopictus', 'culex', 'albopictus', 'albopictus', 'albopictus', 'culex', 'albopictus', 'culiseta', 'albopictus', 'albopictus', 'culex', 'culex', 'culex', 'japonicus/koreicus', 'albopictus', 'albopictus', 'culex', 'albopictus', 'albopictus', 'culex', 'culex', 'albopictus', 'albopictus', 'culiseta', 'culex', 'albopictus', 'albopictus', 'culex', 'albopictus', 'albopictus', 'culex', 'albopictus', 'culex', 'albopictus', 'albopictus', 'albopictus', 'culex', 'albopictus', 'culex', 'culex', 'culex', 'albopictus', 'albopictus', 'albopictus', 'albopictus', 'culex', 'albopictus', 'albopictus', 'culex', 'culex', 'culex', 'albopictus', 'culex', 'albopictus', 'culex', 'culex', 'culex', 'albopictus', 'albopictus', 'culex', 'albopictus', 'albopictus', 'albopictus', 'albopictus', 'culex', 'culex', 'albopictus', 'culex', 'albopictus', 'culex', 'culex', 'culex', 'culex', 'culex', 'albopictus', 'culex', 'culiseta', 'culex', 'albopictus', 'albopictus', 'albopictus', 'culex', 'culex', 'culiseta', 'culex', 'culex', 'culex', 'albopictus', 'culex', 'culex', 'albopictus', 'culex', 'albopictus', 'culex', 'culex', 'culex', 'culex', 'albopictus', 'culex', 'culex', 'culex', 'culex', 'culex', 'culex', 'culex', 'albopictus', 'albopictus', 'albopictus', 'albopictus', 'albopictus', 'albopictus', 'albopictus', 'albopictus', 'albopictus', 'culex', 'culex', 'albopictus', 'culex', 'culex', 'albopictus', 'albopictus', 'albopictus', 'albopictus', 'culex', 'albopictus', 'japonicus/koreicus', 'culex', 'albopictus', 'albopictus', 'culex', 'albopictus', 'albopictus', 'culex', 'albopictus', 'albopictus', 'albopictus', 'culex', 'culex', 'culex', 'albopictus', 'albopictus', 'culex', 'culex', 'culex', 'albopictus', 'albopictus', 'albopictus', 'albopictus', 'albopictus', 'culex', 'albopictus', 'albopictus', 'albopictus', 'albopictus', 'albopictus', 'culiseta', 'albopictus', 'culex', 'albopictus', 'albopictus', 'culex', 'albopictus', 'culex', 'albopictus', 'culex', 'culex', 'culex', 'albopictus', 'albopictus', 'culex', 'culex', 'culex', 'albopictus', 'culex', 'albopictus', 'albopictus', 'culex', 'albopictus', 'albopictus']\n",
            "['culex' 'culex' 'culex' 'culex' 'culex' 'culex' 'culex' 'culex' 'culex'\n",
            " 'culex' 'culex' 'culex' 'culex' 'culex' 'culex' 'culex' 'culex' 'culex'\n",
            " 'culex' 'culex' 'culex' 'culex' 'culex' 'culex' 'culex' 'culex' 'culex'\n",
            " 'culex' 'culex' 'culex' 'culex' 'culex' 'culex' 'culex' 'culex' 'culex'\n",
            " 'culex' 'culex' 'culex' 'culex' 'culex' 'culex' 'culex' 'culex' 'culex'\n",
            " 'culex' 'culex' 'culex' 'culex' 'culex' 'culex' 'culex' 'culex' 'culex'\n",
            " 'culex' 'culex' 'culex' 'culex' 'culex' 'culex' 'culex' 'culex' 'culex'\n",
            " 'culex' 'culex' 'culex' 'culex' 'culex' 'culex' 'culex' 'culex' 'culex'\n",
            " 'culex' 'culex' 'culex' 'culex' 'culex' 'culex' 'culex' 'culex' 'culex'\n",
            " 'culex' 'culex' 'culex' 'culex' 'culex' 'culex' 'culex' 'culex' 'culex'\n",
            " 'culex' 'culex' 'culex' 'culex' 'culex' 'culex' 'culex' 'culex' 'culex'\n",
            " 'culex' 'culex' 'culex' 'culex' 'culex' 'culex' 'culex' 'culex' 'culex'\n",
            " 'culex' 'culex' 'culex' 'culex' 'culex' 'culex' 'culex' 'culex' 'culex'\n",
            " 'culex' 'culex' 'culex' 'culex' 'culex' 'culex' 'culex' 'culex' 'culex'\n",
            " 'culex' 'culex' 'culex' 'culex' 'culex' 'culex' 'culex' 'culex' 'culex'\n",
            " 'culex' 'culex' 'culex' 'culex' 'culex' 'culex' 'culex' 'culex'\n",
            " 'albopictus' 'culex' 'culex' 'culex' 'culex' 'culex' 'culex' 'culex'\n",
            " 'culex' 'culex' 'albopictus' 'culex' 'culex' 'culex' 'culex' 'culex'\n",
            " 'culex' 'culex' 'culex' 'culex' 'culex' 'culex' 'culex' 'culex' 'culex'\n",
            " 'culex' 'culex' 'culex' 'culex' 'culex' 'culex' 'culex' 'culex' 'culex'\n",
            " 'culex' 'culex' 'culex' 'culex' 'culex' 'culex' 'culex' 'culex' 'culex'\n",
            " 'culex' 'culex' 'culex' 'culex' 'culex' 'culex' 'culex' 'culex' 'culex'\n",
            " 'culex' 'culex' 'culex' 'culex' 'culex' 'culex' 'culex' 'culex' 'culex'\n",
            " 'culex' 'culex' 'culex' 'culex' 'culex' 'culex' 'culex' 'culex' 'culex'\n",
            " 'culex' 'culex' 'culex' 'culex' 'culex' 'culex' 'culex' 'culex' 'culex'\n",
            " 'culex' 'culex' 'culex' 'culex' 'culex' 'culex' 'culex' 'culex' 'culex'\n",
            " 'culex' 'culex' 'culex' 'culex' 'culex' 'culex' 'culex' 'culex' 'culex'\n",
            " 'culex' 'culex' 'culex' 'culex' 'culex' 'culex' 'culex' 'culex' 'culex'\n",
            " 'culex' 'culex' 'culex' 'culex' 'culex' 'culex' 'culex' 'culex' 'culex'\n",
            " 'culex' 'culex' 'culex' 'culex' 'culex' 'culex' 'culex' 'culex' 'culex'\n",
            " 'culex' 'culex' 'culex' 'culex' 'culex' 'culex' 'culex' 'culex' 'culex'\n",
            " 'culex' 'culex' 'culex' 'culex' 'culex' 'culex' 'culex' 'culex'\n",
            " 'albopictus' 'culex' 'culex' 'culex' 'culex' 'culex' 'culex' 'culex'\n",
            " 'culex' 'culex' 'culex' 'culex' 'culex' 'culex' 'culex' 'culex' 'culex'\n",
            " 'culex' 'culex' 'culex' 'culex' 'culex' 'culex' 'culex' 'culex' 'culex'\n",
            " 'culex' 'culex' 'culex' 'culex' 'culex' 'culex' 'culex' 'culex' 'culex'\n",
            " 'culex' 'culex' 'culex' 'culex' 'culex' 'culex' 'culex' 'culex' 'culex'\n",
            " 'culex' 'culex' 'culex' 'culex' 'culex' 'culex' 'culex' 'culex' 'culex'\n",
            " 'culex' 'culex' 'culex' 'culex' 'culex' 'culex' 'culex' 'culex' 'culex'\n",
            " 'culex' 'culex' 'culex' 'culex' 'culex' 'culex' 'culex' 'culex' 'culex'\n",
            " 'culex' 'culex' 'culex' 'culex' 'culex' 'culex' 'culex' 'culex' 'culex'\n",
            " 'culex' 'culex' 'culex' 'culex' 'culex' 'culex' 'culex' 'culex' 'culex'\n",
            " 'culex' 'culex' 'culex' 'culex' 'culex' 'culex' 'culex' 'culex' 'culex'\n",
            " 'culex' 'culex' 'culex' 'culex' 'culex' 'culex' 'culex' 'culex' 'culex'\n",
            " 'culex' 'culex' 'culex' 'culex' 'culex' 'culex' 'culex' 'culex' 'culex'\n",
            " 'culex' 'culex' 'culex' 'culex' 'culex' 'culex' 'culex' 'culex' 'culex'\n",
            " 'culex' 'culex' 'culex' 'culex' 'culex' 'culex' 'culex' 'culex' 'culex'\n",
            " 'culex' 'culex' 'culex' 'culex' 'culex' 'culex' 'culex' 'culex' 'culex'\n",
            " 'culex' 'culex' 'culex' 'culex' 'culex' 'culex' 'culex' 'culex' 'culex'\n",
            " 'culex' 'culex' 'culex' 'culex' 'culex' 'culex' 'culex' 'culex' 'culex'\n",
            " 'culex' 'culex' 'culex' 'culex' 'culex' 'culex' 'culex' 'culex' 'culex'\n",
            " 'culex' 'culex' 'culex' 'culex' 'culex' 'culex' 'culex' 'culex' 'culex'\n",
            " 'culex' 'culex' 'culex' 'culex' 'culex' 'culex' 'culex' 'culex' 'culex'\n",
            " 'culex' 'culex' 'culex' 'culex' 'culex' 'culex' 'culex' 'culex' 'culex'\n",
            " 'culex' 'culex' 'culex' 'culex' 'culex' 'culex' 'culex' 'culex' 'culex'\n",
            " 'culex' 'culex' 'culex' 'culex' 'culex' 'culex' 'culex' 'culex' 'culex'\n",
            " 'culex' 'culex' 'culex' 'culex' 'culex' 'culex' 'culex' 'culex' 'culex'\n",
            " 'culex' 'culex' 'culex' 'culex' 'culex' 'culex' 'culex' 'culex' 'culex'\n",
            " 'culex' 'culex' 'culex' 'culex' 'culex' 'culex' 'culex' 'culex' 'culex'\n",
            " 'culex' 'culex' 'culex' 'culex' 'culex' 'culex' 'culex' 'culex' 'culex'\n",
            " 'culex' 'culex' 'culex' 'culex' 'culex' 'culex' 'culex' 'culex' 'culex'\n",
            " 'culex' 'culex' 'culex' 'culex' 'culex' 'culex' 'culex' 'culex' 'culex'\n",
            " 'culex' 'culex' 'culex' 'culex' 'culex' 'culex' 'culex' 'culex' 'culex'\n",
            " 'culex' 'culex' 'culex' 'culex' 'culex' 'culex' 'culex' 'culex' 'culex'\n",
            " 'culex' 'culex' 'culex' 'culex' 'culex' 'culex' 'culex' 'culex' 'culex'\n",
            " 'culex' 'culex' 'culex' 'culex' 'culex' 'culex' 'culex' 'culex' 'culex'\n",
            " 'culex' 'culex' 'culex' 'culex' 'culex' 'culex' 'culex' 'culex' 'culex'\n",
            " 'culex' 'culex' 'culex' 'culex' 'culex' 'culex' 'culex' 'culex' 'culex'\n",
            " 'culex' 'culex' 'culex' 'culex' 'culex' 'culex' 'culex' 'culex' 'culex'\n",
            " 'culex' 'culex' 'culex' 'culex' 'culex' 'culex' 'culex' 'culex' 'culex'\n",
            " 'culex' 'culex' 'culex' 'culex' 'culex' 'culex' 'culex' 'culex' 'culex'\n",
            " 'culex' 'culex' 'culex' 'culex' 'culex' 'culex' 'culex' 'culex' 'culex'\n",
            " 'culex' 'culex' 'culex' 'culex' 'culex' 'culex' 'culex' 'culex' 'culex'\n",
            " 'culex' 'culex' 'culex' 'culex' 'culex' 'culex' 'culex' 'culex' 'culex'\n",
            " 'culex' 'culex' 'culex' 'culex' 'culex' 'culex' 'culex' 'culex' 'culex'\n",
            " 'culex' 'culex' 'culex' 'culex' 'culex' 'culex' 'culex' 'culex' 'culex'\n",
            " 'culex' 'culex' 'culex' 'culex' 'culex' 'culex' 'culex' 'culex' 'culex'\n",
            " 'culex' 'culex' 'culex' 'culex' 'culex' 'culex' 'culex' 'culex' 'culex'\n",
            " 'culex' 'culex' 'culex' 'culex' 'culex' 'culex' 'culex' 'culex' 'culex'\n",
            " 'culex' 'culex' 'culex' 'culex' 'culex' 'culex' 'culex' 'culex' 'culex'\n",
            " 'culex' 'culex' 'culex' 'culex' 'culex' 'culex' 'culex' 'culex' 'culex'\n",
            " 'culex' 'culex' 'culex' 'culex' 'culex' 'culex' 'culex' 'culex' 'culex'\n",
            " 'culex' 'culex' 'culex' 'culex' 'culex' 'culex' 'culex' 'culex' 'culex'\n",
            " 'culex' 'culex' 'culex' 'culex' 'culex' 'culex' 'culex' 'culex' 'culex'\n",
            " 'culex' 'culex' 'culex' 'culex' 'culex' 'culex' 'culex' 'culex' 'culex'\n",
            " 'culex' 'culex' 'culex' 'culex' 'culex' 'culex' 'culex' 'culex' 'culex'\n",
            " 'culex' 'culex' 'culex' 'culex' 'culex' 'culex' 'culex' 'culex' 'culex'\n",
            " 'culex' 'culex' 'culex' 'culex' 'culex' 'culex' 'culex' 'culex' 'culex'\n",
            " 'culex' 'culex' 'culex' 'culex' 'culex' 'culex' 'culex' 'culex' 'culex'\n",
            " 'culex']\n",
            "Accuracy score:  0.47051442910915936\n",
            "Confusion matrix:  [[[408   0]\n",
            "  [386   3]]\n",
            "\n",
            " [[  3 422]\n",
            "  [  0 372]]\n",
            "\n",
            " [[797   0]\n",
            "  [  0   0]]\n",
            "\n",
            " [[773   0]\n",
            "  [ 24   0]]\n",
            "\n",
            " [[785   0]\n",
            "  [ 12   0]]\n",
            "\n",
            " [[797   0]\n",
            "  [  0   0]]]\n"
          ]
        }
      ]
    },
    {
      "cell_type": "code",
      "source": [],
      "metadata": {
        "id": "Prsnbn90mSe5"
      },
      "execution_count": null,
      "outputs": []
    }
  ]
}