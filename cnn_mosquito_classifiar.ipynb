{
  "nbformat": 4,
  "nbformat_minor": 0,
  "metadata": {
    "colab": {
      "provenance": [],
      "gpuType": "T4"
    },
    "kernelspec": {
      "name": "python3",
      "display_name": "Python 3"
    },
    "language_info": {
      "name": "python"
    },
    "accelerator": "GPU"
  },
  "cells": [
    {
      "cell_type": "markdown",
      "source": [
        "# CNN mosquito classifier"
      ],
      "metadata": {
        "id": "kpWFyQhSHMJL"
      }
    },
    {
      "cell_type": "markdown",
      "source": [
        "# 1. Import the dependencies."
      ],
      "metadata": {
        "id": "d5498uhsS185"
      }
    },
    {
      "cell_type": "code",
      "execution_count": null,
      "metadata": {
        "id": "x_w-pxarzBB_"
      },
      "outputs": [],
      "source": [
        "# This program uses the images of the detected mosquitoes because I saved them, detection was done on those and they were uploaded online to train\n",
        "from PIL import Image\n",
        "import cv2\n",
        "import numpy as np\n",
        "import random\n",
        "import pandas as pd\n",
        "import os\n",
        "from typing import Tuple\n",
        "from sklearn.model_selection import train_test_split\n",
        "from sklearn.metrics import accuracy_score, multilabel_confusion_matrix\n",
        "from sklearn.preprocessing import LabelEncoder\n",
        "from keras.models import Sequential\n",
        "from keras.layers import Conv2D, MaxPooling2D, GlobalAveragePooling2D, Dense\n",
        "import tensorflow as tf\n",
        "from tensorflow.keras.models import Sequential\n",
        "from tensorflow.keras import layers\n",
        "from sklearn.preprocessing import LabelEncoder\n",
        "import matplotlib.pyplot as plt"
      ]
    },
    {
      "cell_type": "markdown",
      "source": [
        "# 2. Load images, image preprocessing, and image feature extraction\n",
        "- find_label find the corresponding label for each mosquito image.\n",
        "- paths_labels finds the paths of images."
      ],
      "metadata": {
        "id": "uTGZDJhfS43D"
      }
    },
    {
      "cell_type": "code",
      "source": [
        "data = pd.read_csv(\"/content/drive/MyDrive/mosquito_names.csv\")  # Load mosquito infor\n",
        "img_names = data[\"img_fName\"]\n",
        "img_names = list(img_names)\n",
        "img_classes = data[\"class_label\"]\n",
        "\n",
        "def find_label(file_name):  # Given the filename find the corresponding label\n",
        "    if file_name in img_names:\n",
        "        index = img_names.index(file_name)\n",
        "        return img_classes[index]\n",
        "\n",
        "def paths_labels() -> Tuple:  # Paths to the images\n",
        "    directory = \"/content/drive/MyDrive/detected_mosquitoes/train_test_images\"\n",
        "    img_paths = []\n",
        "    img_labels = []\n",
        "    # Getting each image path from the dataset\n",
        "    for file_name in os.listdir(directory):\n",
        "        if file_name.endswith('.jpeg'):\n",
        "            file_path = os.path.join(directory, file_name)\n",
        "            img_paths.append(file_path)\n",
        "            img_labels.append(find_label(file_name))\n",
        "\n",
        "    return img_paths, img_labels\n",
        "\n",
        "imgs, img_labels = paths_labels()\n",
        "resize_width = 128\n",
        "resize_height = 128\n",
        "images = []\n",
        "\n",
        "for i in range(len(imgs)):  # Load the images and append them to the images list\n",
        "  # Load the image\n",
        "  image = cv2.imread(imgs[i])\n",
        "  images.append(image)"
      ],
      "metadata": {
        "id": "9oVi1RGCT1Xs"
      },
      "execution_count": null,
      "outputs": []
    },
    {
      "cell_type": "markdown",
      "source": [
        "# 3. Label encoder, and split data.\n",
        "- Create a LabelEncoder and fit labels.\n",
        "- Split the data into training and validating sets."
      ],
      "metadata": {
        "id": "sPWLQjL4T8G_"
      }
    },
    {
      "cell_type": "code",
      "source": [
        "label_encoder = LabelEncoder()\n",
        "img_labels = label_encoder.fit_transform(img_labels)\n",
        "X_train, X_valid, y_train, y_valid = train_test_split(images, img_labels, test_size=0.2, random_state=50)\n",
        "\n",
        "num_classes = 6\n",
        "X_train = np.array(X_train)\n",
        "X_valid = np.array(X_valid)"
      ],
      "metadata": {
        "id": "wu0iVPCYUX49"
      },
      "execution_count": null,
      "outputs": []
    },
    {
      "cell_type": "markdown",
      "source": [
        "# 4. Build a CNN mosquito classifiar.\n",
        "- Create a Sequential model.\n",
        "- Add Conv2D, MaxPooling2D, Flatten, and Densely connected layers.\n",
        "- Add MaxPooling2D after every Conv2D, then after add Flatten layer, and two densely connected layers.\n",
        "- Compile the model with 'adam' optimizer, 'SparseCategoricalCrossentropy' loss, and 'accuracy' as a metric.\n",
        "- Fit the model to the training data.\n",
        "- Plot history of the model resulting from fitting the model."
      ],
      "metadata": {
        "id": "CG-wKOoOUhoA"
      }
    },
    {
      "cell_type": "code",
      "source": [
        "# Build the CNN\n",
        "model = Sequential()\n",
        "model.add(layers.Conv2D(64, (3, 3), activation='relu', input_shape=(X_train.shape[1], X_train.shape[2], X_train.shape[3])))\n",
        "model.add(layers.MaxPooling2D((2, 2)))\n",
        "model.add(layers.Conv2D(128, (3, 3), activation='relu'))\n",
        "model.add(layers.MaxPooling2D((2, 2)))\n",
        "model.add(layers.Conv2D(256, (3, 3), activation='relu'))\n",
        "model.add(layers.MaxPooling2D((2, 2)))\n",
        "model.add(layers.Conv2D(256, (3, 3), activation='relu'))\n",
        "model.add(layers.Flatten())\n",
        "model.add(layers.Dense(128, activation='relu'))\n",
        "model.add(layers.Dense(num_classes))\n",
        "\n",
        "model.compile(optimizer='adam', loss=tf.keras.losses.SparseCategoricalCrossentropy(from_logits=True), metrics=['accuracy'])\n",
        "his = model.fit(X_train, y_train, epochs=15, validation_data=(X_valid, y_valid))\n",
        "loss, accuracy = model.evaluate(X_valid, y_valid)\n",
        "print('Loss: ', loss)\n",
        "print('Accuracy: ', accuracy)\n",
        "\n",
        "plt.figure(figsize=(8, 8))\n",
        "plt.plot(his.history['accuracy'], label='accuracy')\n",
        "plt.plot(his.history['val_accuracy'], label='val_accuracy')\n",
        "plt.xlabel('Epoch')\n",
        "plt.ylabel('Accuracy')\n",
        "plt.ylim([0.5, 1])\n",
        "plt.legend(loc='lower right')\n",
        "plt.savefig(\"cnn_report.png\")"
      ],
      "metadata": {
        "colab": {
          "base_uri": "https://localhost:8080/",
          "height": 1000
        },
        "id": "7k0FWbQvzwQK",
        "outputId": "e754fbe0-571b-416f-e751-181984abb608"
      },
      "execution_count": null,
      "outputs": [
        {
          "output_type": "stream",
          "name": "stdout",
          "text": [
            "Epoch 1/15\n",
            "100/100 [==============================] - 17s 46ms/step - loss: 6.1606 - accuracy: 0.5614 - val_loss: 0.6971 - val_accuracy: 0.7327\n",
            "Epoch 2/15\n",
            "100/100 [==============================] - 3s 34ms/step - loss: 0.7227 - accuracy: 0.7381 - val_loss: 0.6310 - val_accuracy: 0.7804\n",
            "Epoch 3/15\n",
            "100/100 [==============================] - 4s 36ms/step - loss: 0.6169 - accuracy: 0.7834 - val_loss: 0.5542 - val_accuracy: 0.8030\n",
            "Epoch 4/15\n",
            "100/100 [==============================] - 4s 35ms/step - loss: 0.6041 - accuracy: 0.8063 - val_loss: 0.6314 - val_accuracy: 0.7867\n",
            "Epoch 5/15\n",
            "100/100 [==============================] - 3s 35ms/step - loss: 0.5598 - accuracy: 0.8239 - val_loss: 0.7122 - val_accuracy: 0.7629\n",
            "Epoch 6/15\n",
            "100/100 [==============================] - 3s 35ms/step - loss: 0.5444 - accuracy: 0.8182 - val_loss: 0.5463 - val_accuracy: 0.8281\n",
            "Epoch 7/15\n",
            "100/100 [==============================] - 4s 36ms/step - loss: 0.4573 - accuracy: 0.8496 - val_loss: 0.5289 - val_accuracy: 0.8494\n",
            "Epoch 8/15\n",
            "100/100 [==============================] - 4s 35ms/step - loss: 0.4185 - accuracy: 0.8634 - val_loss: 0.5064 - val_accuracy: 0.8381\n",
            "Epoch 9/15\n",
            "100/100 [==============================] - 3s 35ms/step - loss: 0.3847 - accuracy: 0.8769 - val_loss: 0.5091 - val_accuracy: 0.8657\n",
            "Epoch 10/15\n",
            "100/100 [==============================] - 3s 35ms/step - loss: 0.3534 - accuracy: 0.8892 - val_loss: 0.5250 - val_accuracy: 0.8519\n",
            "Epoch 11/15\n",
            "100/100 [==============================] - 4s 36ms/step - loss: 0.3512 - accuracy: 0.8845 - val_loss: 0.5571 - val_accuracy: 0.8407\n",
            "Epoch 12/15\n",
            "100/100 [==============================] - 3s 34ms/step - loss: 0.3494 - accuracy: 0.8907 - val_loss: 0.6196 - val_accuracy: 0.8356\n",
            "Epoch 13/15\n",
            "100/100 [==============================] - 3s 35ms/step - loss: 0.2595 - accuracy: 0.9215 - val_loss: 0.6416 - val_accuracy: 0.8181\n",
            "Epoch 14/15\n",
            "100/100 [==============================] - 3s 35ms/step - loss: 0.2347 - accuracy: 0.9253 - val_loss: 0.8466 - val_accuracy: 0.8570\n",
            "Epoch 15/15\n",
            "100/100 [==============================] - 4s 35ms/step - loss: 0.2266 - accuracy: 0.9265 - val_loss: 0.6141 - val_accuracy: 0.8482\n",
            "25/25 [==============================] - 0s 13ms/step - loss: 0.6141 - accuracy: 0.8482\n",
            "Loss:  0.6140602231025696\n",
            "Accuracy:  0.8481806516647339\n"
          ]
        },
        {
          "output_type": "display_data",
          "data": {
            "text/plain": [
              "<Figure size 800x800 with 1 Axes>"
            ],
            "image/png": "[encoded data removed]"
          },
          "metadata": {}
        }
      ]
    },
    {
      "cell_type": "markdown",
      "source": [
        "### Save the model."
      ],
      "metadata": {
        "id": "g5qiS9mAWiB9"
      }
    },
    {
      "cell_type": "code",
      "source": [
        "model.save(\"cnn_mosquito.h5\")"
      ],
      "metadata": {
        "colab": {
          "base_uri": "https://localhost:8080/"
        },
        "id": "meuemfl_0w-Y",
        "outputId": "54b71169-4901-408d-a969-6c593cbc6bfd"
      },
      "execution_count": null,
      "outputs": [
        {
          "output_type": "stream",
          "name": "stderr",
          "text": [
            "/usr/local/lib/python3.10/dist-packages/keras/src/engine/training.py:3000: UserWarning: You are saving your model as an HDF5 file via `model.save()`. This file format is considered legacy. We recommend using instead the native Keras format, e.g. `model.save('my_model.keras')`.\n",
            "  saving_api.save_model(\n"
          ]
        }
      ]
    },
    {
      "cell_type": "code",
      "source": [],
      "metadata": {
        "id": "kn0sSoVP27Ad"
      },
      "execution_count": null,
      "outputs": []
    }
  ]
}