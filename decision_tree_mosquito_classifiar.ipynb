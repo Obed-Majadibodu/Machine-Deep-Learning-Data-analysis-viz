{
  "nbformat": 4,
  "nbformat_minor": 0,
  "metadata": {
    "colab": {
      "provenance": [],
      "gpuType": "T4"
    },
    "kernelspec": {
      "name": "python3",
      "display_name": "Python 3"
    },
    "language_info": {
      "name": "python"
    },
    "accelerator": "GPU"
  },
  "cells": [
    {
      "cell_type": "markdown",
      "source": [
        "# Decision Tree mosquito classifiar"
      ],
      "metadata": {
        "id": "rpdSlG1GGuWb"
      }
    },
    {
      "cell_type": "markdown",
      "source": [
        "# 1. Import the dependencies."
      ],
      "metadata": {
        "id": "LgfDpOZtRZ2j"
      }
    },
    {
      "cell_type": "code",
      "execution_count": null,
      "metadata": {
        "id": "9GQjcIX0Acdu"
      },
      "outputs": [],
      "source": [
        "# This program uses the images of the detected mosquitoes because I saved them, detection was done on those and they were uploaded online to train\n",
        "from PIL import Image\n",
        "import cv2\n",
        "from skimage.feature import local_binary_pattern, hog\n",
        "from sklearn.neighbors import KNeighborsClassifier\n",
        "from sklearn.tree import DecisionTreeClassifier\n",
        "import numpy as np\n",
        "import random\n",
        "import pandas as pd\n",
        "import os\n",
        "from typing import Tuple\n",
        "from sklearn.model_selection import train_test_split\n",
        "from sklearn.metrics import accuracy_score, precision_score, recall_score, f1_score, multilabel_confusion_matrix\n",
        "import pickle"
      ]
    },
    {
      "cell_type": "markdown",
      "source": [
        "# 2. Load images, image preprocessing, and image feature extraction\n",
        "- find_label find the corresponding label for each mosquito image.\n",
        "- paths_labels finds the paths of images.\n",
        "- gray_scale convert images to grayscale.\n",
        "- clahe applies adaptive histogram equalization.\n",
        "- histo_ori_grds extracts Histogram Oriented Gradients (HOG)."
      ],
      "metadata": {
        "id": "XQELWKFIRcn8"
      }
    },
    {
      "cell_type": "code",
      "source": [
        "data = pd.read_csv(\"/content/drive/MyDrive/mosquito_names.csv\")\n",
        "img_names = data[\"img_fName\"]\n",
        "img_names = list(img_names)\n",
        "img_classes = data[\"class_label\"]\n",
        "\n",
        "def find_label(file_name):\n",
        "    if file_name in img_names:\n",
        "        index = img_names.index(file_name)\n",
        "        return img_classes[index]\n",
        "\n",
        "def paths_labels() -> Tuple:\n",
        "    directory = \"/content/drive/MyDrive/detected_mosquitoes/train_test_images\"\n",
        "    img_paths = []\n",
        "    img_labels = []\n",
        "    # Getting each image path from the dataset\n",
        "    for file_name in os.listdir(directory):\n",
        "        if file_name.endswith('.jpeg'):\n",
        "            file_path = os.path.join(directory, file_name)\n",
        "            img_paths.append(file_path)\n",
        "            img_labels.append(find_label(file_name))\n",
        "\n",
        "    return img_paths, img_labels\n",
        "\n",
        "def gray_scale(img):  # For gray scale\n",
        "    img_gray = cv2.cvtColor(img, cv2.COLOR_BGR2GRAY)\n",
        "    return img_gray\n",
        "\n",
        "def clahe(gray_image):  # Applying CLAHE\n",
        "    adaptive_histogram_equalization = cv2.createCLAHE(clipLimit=2.0, tileGridSize=(8, 8))\n",
        "    image_equalized = adaptive_histogram_equalization.apply(gray_image)\n",
        "    return image_equalized\n",
        "\n",
        "def histo_ori_grds(preprocessed_region):  # HOG features\n",
        "    features = hog(preprocessed_region, pixels_per_cell=(8, 8), cells_per_block=(2, 2), block_norm='L2-Hys')\n",
        "    return features\n",
        "\n",
        "hogs = []\n",
        "imgs, img_labels = paths_labels()\n",
        "\n",
        "for i in range(len(imgs)):\n",
        "  # Load the image\n",
        "  image = cv2.imread(imgs[i])\n",
        "\n",
        "  hog_image = histo_ori_grds(clahe(gray_scale(image)))\n",
        "  hogs.append(hog_image.ravel())"
      ],
      "metadata": {
        "id": "142AyUe5SC08"
      },
      "execution_count": null,
      "outputs": []
    },
    {
      "cell_type": "markdown",
      "source": [
        "# 3. Dataset splitting, training a model, and evaluating a model.\n",
        "- Split the data into training and testing data\n",
        "- Create Decision Tree model and fit it to the training data.\n",
        "- Finally make predictions with the model."
      ],
      "metadata": {
        "id": "gzk64vZxSQPN"
      }
    },
    {
      "cell_type": "code",
      "source": [
        "X_train, X_valid, y_train, y_valid = train_test_split(hogs, img_labels, test_size=0.2, random_state=42)\n",
        "\n",
        "tree = DecisionTreeClassifier()\n",
        "tree.fit(X_train, y_train)\n",
        "\n",
        "preds = tree.predict(X_valid)\n",
        "print(y_valid)\n",
        "print(preds)\n",
        "print(\"Accuracy score: \", accuracy_score(y_valid, preds))\n",
        "print(\"Confusion matrix: \", multilabel_confusion_matrix(y_valid, preds, labels=['albopictus', 'culex', 'anopheles', 'culiseta', 'japonicus/koreicus', 'aegypti']))\n",
        "\n",
        "# Saving the model using pickel\n",
        "det_tree_model = \"det_tree_model.pkl\"\n",
        "with open(det_tree_model, 'wb') as file:\n",
        "    pickle.dump(tree, file)"
      ],
      "metadata": {
        "colab": {
          "base_uri": "https://localhost:8080/"
        },
        "id": "sXfiqH3QAtzs",
        "outputId": "c2dc47d4-4fac-442b-fd8b-91880ee85dcd"
      },
      "execution_count": null,
      "outputs": [
        {
          "output_type": "stream",
          "name": "stdout",
          "text": [
            "['culex', 'albopictus', 'albopictus', 'culex', 'culex', 'albopictus', 'culex', 'culex', 'culex', 'culex', 'albopictus', 'culex', 'albopictus', 'culex', 'culex', 'albopictus', 'culex', 'albopictus', 'albopictus', 'japonicus/koreicus', 'albopictus', 'albopictus', 'culex', 'albopictus', 'culex', 'culex', 'culex', 'culex', 'culex', 'culex', 'albopictus', 'culex', 'culex', 'culex', 'culex', 'albopictus', 'culex', 'culex', 'culex', 'culex', 'albopictus', 'culex', 'albopictus', 'albopictus', 'albopictus', 'culex', 'culex', 'culex', 'culex', 'albopictus', 'albopictus', 'culex', 'culex', 'albopictus', 'culex', 'albopictus', 'albopictus', 'albopictus', 'culex', 'albopictus', 'culex', 'albopictus', 'culex', 'culex', 'albopictus', 'culex', 'culex', 'albopictus', 'culex', 'albopictus', 'albopictus', 'albopictus', 'culex', 'albopictus', 'albopictus', 'culex', 'culex', 'culex', 'culex', 'albopictus', 'albopictus', 'albopictus', 'albopictus', 'albopictus', 'culex', 'albopictus', 'albopictus', 'albopictus', 'culex', 'albopictus', 'culiseta', 'culex', 'culex', 'albopictus', 'albopictus', 'albopictus', 'culex', 'albopictus', 'culiseta', 'albopictus', 'culex', 'culex', 'albopictus', 'albopictus', 'albopictus', 'culex', 'culex', 'albopictus', 'culex', 'albopictus', 'albopictus', 'culex', 'albopictus', 'albopictus', 'albopictus', 'albopictus', 'culex', 'culex', 'culex', 'albopictus', 'culex', 'culex', 'albopictus', 'culex', 'albopictus', 'culex', 'albopictus', 'albopictus', 'culiseta', 'culex', 'albopictus', 'culex', 'albopictus', 'albopictus', 'culex', 'culex', 'albopictus', 'albopictus', 'albopictus', 'culex', 'culex', 'culex', 'culex', 'albopictus', 'albopictus', 'culex', 'albopictus', 'culex', 'culex', 'culex', 'culex', 'culex', 'albopictus', 'albopictus', 'albopictus', 'albopictus', 'albopictus', 'culex', 'culex', 'culex', 'culex', 'culex', 'albopictus', 'culex', 'culex', 'albopictus', 'albopictus', 'albopictus', 'albopictus', 'culiseta', 'japonicus/koreicus', 'albopictus', 'albopictus', 'culex', 'albopictus', 'culex', 'albopictus', 'culex', 'albopictus', 'culex', 'culiseta', 'albopictus', 'culex', 'culex', 'albopictus', 'culex', 'culex', 'culex', 'culiseta', 'culex', 'albopictus', 'culex', 'albopictus', 'culex', 'albopictus', 'albopictus', 'albopictus', 'albopictus', 'albopictus', 'culex', 'albopictus', 'albopictus', 'albopictus', 'culex', 'albopictus', 'albopictus', 'albopictus', 'culex', 'albopictus', 'albopictus', 'culex', 'culex', 'albopictus', 'culex', 'culex', 'culex', 'albopictus', 'albopictus', 'culex', 'culex', 'albopictus', 'albopictus', 'albopictus', 'albopictus', 'culex', 'culex', 'culex', 'albopictus', 'albopictus', 'albopictus', 'culex', 'culex', 'culex', 'albopictus', 'culiseta', 'albopictus', 'culex', 'albopictus', 'albopictus', 'culex', 'culiseta', 'culex', 'albopictus', 'albopictus', 'culex', 'culex', 'albopictus', 'albopictus', 'albopictus', 'culex', 'culex', 'albopictus', 'albopictus', 'culex', 'culex', 'culex', 'albopictus', 'albopictus', 'culex', 'culex', 'albopictus', 'culiseta', 'culex', 'albopictus', 'culex', 'albopictus', 'albopictus', 'culex', 'albopictus', 'albopictus', 'albopictus', 'culex', 'albopictus', 'culiseta', 'culex', 'albopictus', 'albopictus', 'culex', 'albopictus', 'culex', 'albopictus', 'culex', 'albopictus', 'albopictus', 'albopictus', 'culex', 'albopictus', 'culex', 'albopictus', 'culex', 'albopictus', 'albopictus', 'culex', 'culex', 'culex', 'culiseta', 'albopictus', 'albopictus', 'culex', 'albopictus', 'albopictus', 'albopictus', 'culex', 'albopictus', 'culex', 'albopictus', 'albopictus', 'culex', 'culex', 'albopictus', 'albopictus', 'culex', 'culex', 'albopictus', 'albopictus', 'albopictus', 'albopictus', 'albopictus', 'culex', 'culex', 'culex', 'albopictus', 'japonicus/koreicus', 'albopictus', 'culex', 'albopictus', 'albopictus', 'culex', 'culex', 'albopictus', 'culex', 'culex', 'albopictus', 'culiseta', 'albopictus', 'albopictus', 'albopictus', 'culex', 'culiseta', 'albopictus', 'albopictus', 'culex', 'culex', 'albopictus', 'culex', 'culex', 'culex', 'culex', 'culex', 'culex', 'albopictus', 'culex', 'culex', 'culex', 'culex', 'albopictus', 'albopictus', 'albopictus', 'culex', 'culex', 'culex', 'albopictus', 'culex', 'culex', 'culex', 'albopictus', 'albopictus', 'culex', 'albopictus', 'albopictus', 'culex', 'culex', 'culiseta', 'albopictus', 'albopictus', 'albopictus', 'albopictus', 'albopictus', 'albopictus', 'albopictus', 'culex', 'albopictus', 'culex', 'albopictus', 'albopictus', 'albopictus', 'albopictus', 'culex', 'culex', 'albopictus', 'japonicus/koreicus', 'albopictus', 'albopictus', 'culex', 'albopictus', 'albopictus', 'japonicus/koreicus', 'culex', 'albopictus', 'albopictus', 'culex', 'culex', 'culex', 'culex', 'albopictus', 'albopictus', 'culex', 'culex', 'albopictus', 'culex', 'albopictus', 'culex', 'culex', 'albopictus', 'culex', 'culex', 'culex', 'culex', 'culex', 'albopictus', 'albopictus', 'culex', 'culex', 'albopictus', 'culex', 'culex', 'albopictus', 'albopictus', 'culex', 'albopictus', 'culex', 'culex', 'japonicus/koreicus', 'culex', 'culiseta', 'culex', 'culex', 'culex', 'albopictus', 'culex', 'culex', 'culex', 'albopictus', 'culex', 'albopictus', 'culex', 'culex', 'culex', 'albopictus', 'albopictus', 'culex', 'albopictus', 'albopictus', 'albopictus', 'albopictus', 'culex', 'albopictus', 'albopictus', 'japonicus/koreicus', 'albopictus', 'albopictus', 'culex', 'culex', 'culex', 'culex', 'culex', 'albopictus', 'culex', 'albopictus', 'albopictus', 'albopictus', 'albopictus', 'albopictus', 'culiseta', 'albopictus', 'culex', 'culex', 'albopictus', 'albopictus', 'culex', 'japonicus/koreicus', 'culex', 'culex', 'culex', 'albopictus', 'culex', 'albopictus', 'culex', 'albopictus', 'albopictus', 'albopictus', 'culex', 'culex', 'albopictus', 'culex', 'albopictus', 'japonicus/koreicus', 'culex', 'albopictus', 'albopictus', 'culex', 'culex', 'culex', 'albopictus', 'culex', 'culex', 'albopictus', 'albopictus', 'albopictus', 'culex', 'albopictus', 'albopictus', 'albopictus', 'culex', 'albopictus', 'culex', 'culex', 'culex', 'albopictus', 'albopictus', 'culex', 'culex', 'albopictus', 'culex', 'culex', 'culex', 'culex', 'culex', 'albopictus', 'albopictus', 'albopictus', 'albopictus', 'culex', 'culex', 'albopictus', 'culex', 'albopictus', 'culex', 'culex', 'culex', 'culex', 'culex', 'culex', 'albopictus', 'albopictus', 'albopictus', 'albopictus', 'albopictus', 'albopictus', 'albopictus', 'albopictus', 'culex', 'culex', 'culex', 'albopictus', 'culiseta', 'culex', 'culiseta', 'culex', 'albopictus', 'culex', 'culex', 'culex', 'albopictus', 'albopictus', 'culex', 'culex', 'albopictus', 'japonicus/koreicus', 'albopictus', 'albopictus', 'culex', 'culex', 'albopictus', 'culex', 'albopictus', 'albopictus', 'albopictus', 'albopictus', 'albopictus', 'culex', 'culex', 'albopictus', 'albopictus', 'culex', 'albopictus', 'culiseta', 'culex', 'culex', 'culex', 'albopictus', 'culex', 'albopictus', 'albopictus', 'albopictus', 'culex', 'culex', 'albopictus', 'culex', 'albopictus', 'albopictus', 'culex', 'culex', 'albopictus', 'culex', 'albopictus', 'culex', 'albopictus', 'albopictus', 'culex', 'culex', 'albopictus', 'culex', 'culex', 'albopictus', 'culex', 'albopictus', 'albopictus', 'albopictus', 'culex', 'albopictus', 'albopictus', 'albopictus', 'culex', 'albopictus', 'culiseta', 'albopictus', 'albopictus', 'culex', 'culex', 'culex', 'japonicus/koreicus', 'albopictus', 'albopictus', 'culex', 'albopictus', 'albopictus', 'culex', 'culex', 'albopictus', 'albopictus', 'culiseta', 'culex', 'albopictus', 'albopictus', 'culex', 'albopictus', 'albopictus', 'culex', 'albopictus', 'culex', 'albopictus', 'albopictus', 'albopictus', 'culex', 'albopictus', 'culex', 'culex', 'culex', 'albopictus', 'albopictus', 'albopictus', 'albopictus', 'culex', 'albopictus', 'albopictus', 'culex', 'culex', 'culex', 'albopictus', 'culex', 'albopictus', 'culex', 'culex', 'culex', 'albopictus', 'albopictus', 'culex', 'albopictus', 'albopictus', 'albopictus', 'albopictus', 'culex', 'culex', 'albopictus', 'culex', 'albopictus', 'culex', 'culex', 'culex', 'culex', 'culex', 'albopictus', 'culex', 'culiseta', 'culex', 'albopictus', 'albopictus', 'albopictus', 'culex', 'culex', 'culiseta', 'culex', 'culex', 'culex', 'albopictus', 'culex', 'culex', 'albopictus', 'culex', 'albopictus', 'culex', 'culex', 'culex', 'culex', 'albopictus', 'culex', 'culex', 'culex', 'culex', 'culex', 'culex', 'culex', 'albopictus', 'albopictus', 'albopictus', 'albopictus', 'albopictus', 'albopictus', 'albopictus', 'albopictus', 'albopictus', 'culex', 'culex', 'albopictus', 'culex', 'culex', 'albopictus', 'albopictus', 'albopictus', 'albopictus', 'culex', 'albopictus', 'japonicus/koreicus', 'culex', 'albopictus', 'albopictus', 'culex', 'albopictus', 'albopictus', 'culex', 'albopictus', 'albopictus', 'albopictus', 'culex', 'culex', 'culex', 'albopictus', 'albopictus', 'culex', 'culex', 'culex', 'albopictus', 'albopictus', 'albopictus', 'albopictus', 'albopictus', 'culex', 'albopictus', 'albopictus', 'albopictus', 'albopictus', 'albopictus', 'culiseta', 'albopictus', 'culex', 'albopictus', 'albopictus', 'culex', 'albopictus', 'culex', 'albopictus', 'culex', 'culex', 'culex', 'albopictus', 'albopictus', 'culex', 'culex', 'culex', 'albopictus', 'culex', 'albopictus', 'albopictus', 'culex', 'albopictus', 'albopictus']\n",
            "['culex' 'culex' 'culex' 'culex' 'culex' 'albopictus' 'culex' 'culex'\n",
            " 'albopictus' 'albopictus' 'culex' 'culex' 'culex' 'albopictus' 'culex'\n",
            " 'culex' 'culex' 'albopictus' 'albopictus' 'albopictus' 'albopictus'\n",
            " 'culex' 'albopictus' 'albopictus' 'culex' 'culex' 'culex' 'albopictus'\n",
            " 'culex' 'albopictus' 'culex' 'culex' 'culex' 'albopictus' 'albopictus'\n",
            " 'culex' 'albopictus' 'culex' 'culex' 'culex' 'culex' 'albopictus' 'culex'\n",
            " 'albopictus' 'culiseta' 'culex' 'albopictus' 'culex' 'culex' 'culex'\n",
            " 'culex' 'culex' 'culex' 'culex' 'culex' 'culex' 'albopictus' 'albopictus'\n",
            " 'culex' 'culex' 'albopictus' 'japonicus/koreicus' 'culex' 'culex'\n",
            " 'albopictus' 'albopictus' 'culex' 'culex' 'culex' 'culex' 'albopictus'\n",
            " 'culex' 'culex' 'albopictus' 'albopictus' 'albopictus' 'albopictus'\n",
            " 'culex' 'culiseta' 'albopictus' 'albopictus' 'culex' 'albopictus' 'culex'\n",
            " 'albopictus' 'albopictus' 'albopictus' 'culiseta' 'culex' 'albopictus'\n",
            " 'culex' 'albopictus' 'culex' 'culex' 'albopictus' 'culex' 'albopictus'\n",
            " 'culex' 'culex' 'culex' 'culex' 'culex' 'culex' 'culex' 'culex'\n",
            " 'culiseta' 'albopictus' 'culex' 'culex' 'albopictus' 'culex' 'albopictus'\n",
            " 'albopictus' 'culex' 'culex' 'culex' 'culiseta' 'albopictus' 'albopictus'\n",
            " 'culex' 'culex' 'culex' 'albopictus' 'albopictus' 'culex' 'culex'\n",
            " 'albopictus' 'albopictus' 'albopictus' 'japonicus/koreicus' 'albopictus'\n",
            " 'culex' 'albopictus' 'albopictus' 'culiseta' 'culiseta' 'culex'\n",
            " 'albopictus' 'albopictus' 'culex' 'albopictus' 'albopictus' 'culex'\n",
            " 'culex' 'culex' 'albopictus' 'albopictus' 'culex' 'albopictus' 'culex'\n",
            " 'culex' 'albopictus' 'albopictus' 'culex' 'culex' 'culex' 'albopictus'\n",
            " 'albopictus' 'albopictus' 'albopictus' 'culex' 'culex' 'albopictus'\n",
            " 'albopictus' 'culex' 'albopictus' 'culiseta' 'albopictus' 'albopictus'\n",
            " 'albopictus' 'culex' 'culiseta' 'culex' 'culex' 'culex' 'albopictus'\n",
            " 'culex' 'albopictus' 'culex' 'albopictus' 'culex' 'culex' 'culex'\n",
            " 'albopictus' 'albopictus' 'culex' 'albopictus' 'albopictus' 'albopictus'\n",
            " 'culex' 'albopictus' 'albopictus' 'culex' 'culex' 'culex' 'albopictus'\n",
            " 'albopictus' 'culex' 'albopictus' 'albopictus' 'albopictus' 'albopictus'\n",
            " 'culex' 'culex' 'albopictus' 'albopictus' 'albopictus' 'culex' 'culex'\n",
            " 'culex' 'albopictus' 'albopictus' 'culex' 'culex' 'albopictus' 'culex'\n",
            " 'culex' 'culex' 'culiseta' 'albopictus' 'culex' 'culex'\n",
            " 'japonicus/koreicus' 'culex' 'albopictus' 'culex' 'culex' 'culex' 'culex'\n",
            " 'albopictus' 'culex' 'albopictus' 'albopictus' 'albopictus' 'albopictus'\n",
            " 'albopictus' 'albopictus' 'culex' 'albopictus' 'albopictus' 'albopictus'\n",
            " 'culex' 'albopictus' 'albopictus' 'culex' 'albopictus' 'albopictus'\n",
            " 'albopictus' 'albopictus' 'culex' 'culex' 'culex' 'albopictus' 'culex'\n",
            " 'culex' 'culex' 'culex' 'culex' 'albopictus' 'albopictus' 'culex' 'culex'\n",
            " 'albopictus' 'albopictus' 'albopictus' 'culex' 'culex' 'culex' 'culex'\n",
            " 'albopictus' 'albopictus' 'culex' 'culex' 'culex' 'albopictus' 'culex'\n",
            " 'culex' 'albopictus' 'culex' 'culex' 'culex' 'culex' 'albopictus' 'culex'\n",
            " 'culex' 'culiseta' 'culex' 'albopictus' 'albopictus' 'culex' 'culex'\n",
            " 'albopictus' 'culiseta' 'albopictus' 'culex' 'culex' 'culex' 'culex'\n",
            " 'albopictus' 'culex' 'culex' 'japonicus/koreicus' 'albopictus'\n",
            " 'albopictus' 'culex' 'albopictus' 'albopictus' 'albopictus' 'albopictus'\n",
            " 'albopictus' 'albopictus' 'culex' 'culex' 'culex' 'albopictus' 'culex'\n",
            " 'culex' 'albopictus' 'albopictus' 'culex' 'culex' 'culex' 'albopictus'\n",
            " 'albopictus' 'albopictus' 'albopictus' 'albopictus' 'culex' 'culex'\n",
            " 'culex' 'albopictus' 'culex' 'culex' 'albopictus' 'culiseta' 'albopictus'\n",
            " 'culex' 'culex' 'albopictus' 'culex' 'culex' 'albopictus' 'culex' 'culex'\n",
            " 'culex' 'albopictus' 'culex' 'culex' 'albopictus' 'culex' 'albopictus'\n",
            " 'culex' 'culiseta' 'culex' 'culex' 'albopictus' 'albopictus' 'culex'\n",
            " 'albopictus' 'albopictus' 'culex' 'albopictus' 'culex' 'albopictus'\n",
            " 'culex' 'albopictus' 'culex' 'culex' 'culex' 'culex' 'albopictus' 'culex'\n",
            " 'albopictus' 'albopictus' 'albopictus' 'culex' 'culex' 'culex'\n",
            " 'albopictus' 'albopictus' 'culex' 'culex' 'albopictus' 'culex'\n",
            " 'albopictus' 'albopictus' 'culex' 'culex' 'culex' 'culex' 'albopictus'\n",
            " 'japonicus/koreicus' 'albopictus' 'culex' 'albopictus' 'albopictus'\n",
            " 'albopictus' 'albopictus' 'culex' 'albopictus' 'culex' 'culiseta'\n",
            " 'albopictus' 'albopictus' 'culex' 'culex' 'culex' 'culex' 'culiseta'\n",
            " 'culex' 'albopictus' 'albopictus' 'culex' 'culex' 'albopictus' 'culex'\n",
            " 'culex' 'albopictus' 'albopictus' 'culex' 'albopictus' 'culex'\n",
            " 'albopictus' 'albopictus' 'culex' 'albopictus' 'albopictus' 'culex'\n",
            " 'culex' 'culex' 'japonicus/koreicus' 'albopictus' 'albopictus'\n",
            " 'albopictus' 'albopictus' 'albopictus' 'albopictus' 'culiseta' 'culex'\n",
            " 'culex' 'albopictus' 'culex' 'culex' 'culex' 'culex' 'culex' 'culex'\n",
            " 'culex' 'albopictus' 'albopictus' 'albopictus' 'culex' 'culex' 'culex'\n",
            " 'culex' 'albopictus' 'culex' 'albopictus' 'albopictus' 'culex'\n",
            " 'albopictus' 'culex' 'culex' 'albopictus' 'culex' 'culex' 'culex' 'culex'\n",
            " 'albopictus' 'culex' 'culex' 'albopictus' 'albopictus' 'albopictus'\n",
            " 'albopictus' 'culex' 'culex' 'culex' 'culex' 'albopictus' 'albopictus'\n",
            " 'culiseta' 'albopictus' 'culex' 'culex' 'albopictus' 'albopictus'\n",
            " 'albopictus' 'albopictus' 'culex' 'culex' 'albopictus' 'albopictus'\n",
            " 'albopictus' 'albopictus' 'albopictus' 'culex' 'japonicus/koreicus'\n",
            " 'albopictus' 'albopictus' 'albopictus' 'culex' 'culex' 'albopictus'\n",
            " 'albopictus' 'culex' 'culex' 'albopictus' 'culex' 'albopictus'\n",
            " 'albopictus' 'culex' 'albopictus' 'japonicus/koreicus' 'culex'\n",
            " 'albopictus' 'albopictus' 'culex' 'culex' 'culex' 'albopictus' 'culex'\n",
            " 'culex' 'albopictus' 'culex' 'culex' 'culex' 'culex' 'albopictus'\n",
            " 'albopictus' 'culex' 'albopictus' 'japonicus/koreicus' 'albopictus'\n",
            " 'culex' 'culex' 'albopictus' 'culex' 'culex' 'albopictus' 'albopictus'\n",
            " 'culex' 'albopictus' 'albopictus' 'culiseta' 'culex' 'albopictus' 'culex'\n",
            " 'culex' 'japonicus/koreicus' 'culex' 'albopictus' 'albopictus' 'culex'\n",
            " 'culex' 'culex' 'culiseta' 'albopictus' 'culiseta' 'culex' 'albopictus'\n",
            " 'albopictus' 'culex' 'albopictus' 'albopictus' 'albopictus' 'albopictus'\n",
            " 'albopictus' 'albopictus' 'culex' 'albopictus' 'albopictus' 'albopictus'\n",
            " 'albopictus' 'albopictus' 'culex' 'culex' 'culex' 'culex' 'culex' 'culex'\n",
            " 'culex' 'albopictus' 'culex' 'culex' 'culex' 'albopictus' 'culex'\n",
            " 'albopictus' 'albopictus' 'albopictus' 'albopictus' 'culex' 'culex'\n",
            " 'culex' 'albopictus' 'albopictus' 'albopictus' 'albopictus' 'albopictus'\n",
            " 'albopictus' 'albopictus' 'albopictus' 'culex' 'albopictus' 'albopictus'\n",
            " 'albopictus' 'albopictus' 'culex' 'culex' 'culex' 'albopictus' 'culex'\n",
            " 'albopictus' 'culex' 'culex' 'culex' 'culex' 'albopictus' 'culex' 'culex'\n",
            " 'culex' 'albopictus' 'albopictus' 'culex' 'culex' 'albopictus' 'culex'\n",
            " 'culex' 'culex' 'culex' 'culex' 'culex' 'japonicus/koreicus' 'albopictus'\n",
            " 'culex' 'culiseta' 'culex' 'culex' 'culex' 'albopictus' 'culex'\n",
            " 'albopictus' 'culex' 'culex' 'albopictus' 'culex' 'albopictus'\n",
            " 'albopictus' 'culex' 'culex' 'culex' 'albopictus' 'japonicus/koreicus'\n",
            " 'culex' 'culex' 'culex' 'culex' 'culex' 'albopictus' 'culex' 'culex'\n",
            " 'culex' 'culex' 'albopictus' 'albopictus' 'culex' 'albopictus' 'culex'\n",
            " 'albopictus' 'albopictus' 'albopictus' 'culiseta' 'culex' 'culex'\n",
            " 'culiseta' 'albopictus' 'culex' 'albopictus' 'culex' 'albopictus'\n",
            " 'albopictus' 'albopictus' 'culex' 'albopictus' 'albopictus' 'albopictus'\n",
            " 'culiseta' 'culex' 'culex' 'albopictus' 'culex' 'culex' 'albopictus'\n",
            " 'albopictus' 'culex' 'albopictus' 'albopictus' 'culex' 'albopictus'\n",
            " 'albopictus' 'albopictus' 'albopictus' 'culex' 'albopictus' 'albopictus'\n",
            " 'albopictus' 'albopictus' 'culex' 'culex' 'albopictus' 'albopictus'\n",
            " 'albopictus' 'culex' 'culex' 'albopictus' 'albopictus' 'albopictus'\n",
            " 'culex' 'albopictus' 'albopictus' 'culex' 'albopictus' 'albopictus'\n",
            " 'albopictus' 'albopictus' 'culex' 'culex' 'culex' 'culiseta' 'culex'\n",
            " 'albopictus' 'albopictus' 'albopictus' 'albopictus' 'culex' 'albopictus'\n",
            " 'culex' 'albopictus' 'culex' 'albopictus' 'culex' 'culex' 'culex'\n",
            " 'albopictus' 'culex' 'albopictus' 'culex' 'culex' 'culex' 'albopictus'\n",
            " 'culex' 'culiseta' 'albopictus' 'albopictus' 'culex' 'albopictus' 'culex'\n",
            " 'culex' 'albopictus' 'albopictus' 'culex' 'albopictus' 'culex' 'culex'\n",
            " 'culiseta' 'albopictus' 'albopictus' 'albopictus' 'culex' 'culex'\n",
            " 'albopictus' 'culex' 'culex' 'culiseta' 'culex' 'culex' 'culex'\n",
            " 'albopictus' 'albopictus' 'culiseta' 'culex' 'culex' 'culex' 'culiseta'\n",
            " 'albopictus' 'albopictus' 'culex' 'culex' 'culex' 'culiseta' 'albopictus'\n",
            " 'albopictus' 'culex' 'culex' 'albopictus' 'albopictus']\n",
            "Accuracy score:  0.4454203262233375\n",
            "Confusion matrix:  [[[222 186]\n",
            "  [219 170]]\n",
            "\n",
            " [[213 212]\n",
            "  [187 185]]\n",
            "\n",
            " [[797   0]\n",
            "  [  0   0]]\n",
            "\n",
            " [[741  32]\n",
            "  [ 24   0]]\n",
            "\n",
            " [[773  12]\n",
            "  [ 12   0]]\n",
            "\n",
            " [[797   0]\n",
            "  [  0   0]]]\n"
          ]
        }
      ]
    },
    {
      "cell_type": "code",
      "source": [],
      "metadata": {
        "id": "XIKQSZpQB2aY"
      },
      "execution_count": null,
      "outputs": []
    }
  ]
}